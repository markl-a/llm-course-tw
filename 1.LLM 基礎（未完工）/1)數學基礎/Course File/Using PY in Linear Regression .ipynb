{
 "cells": [
  {
   "cell_type": "markdown",
   "metadata": {},
   "source": [
    "# Linear Regression \n",
    "\n",
    "## Introduction \n",
    "\n",
    "* 什麼是回歸，什麼是線性迴歸\n",
    "* 估計方法\n",
    "<a href = \"https://www.kdnuggets.com/2016/11/machine-learning-vs-statistics.html\"> Aatash Shah曾在他的文章中作过这样的定义：</a>\n",
    "\n",
    "> * “机器学习”是一种能够直接从数据中学习，而无需依赖规则编程的算法。\n",
    "\n",
    "> * “建立统计模型”的意思是以数学方程式来表示数据变量间的关系。\n",
    "\n",
    "實際上，機器學習的很多 fashion advanced 的算法都是基於線性回歸的，所以，在能夠跟進一步了解其他算法之前，我們需要好好了解一下甚麼是線性迴歸。\n",
    "\n",
    "### 什麼是回歸 \n",
    "\n",
    "在现实世界中存在大量这样的情况：两个或多个变量之间有一些联系，但是没有确切关系（没有确切到可以严格决定的程度），例如：人的身高$X$和體重$Y$有關係，一般表現為$X$增大時$Y$也傾向於增大，但由$X$並不能嚴格決定$Y$；一種農作物的畝產量$Y$與其播種量$X_1$、施肥量$X_2$，等等有關，但是$X Series$並不能嚴格確定$Y$。\n",
    "\n",
    "因此，根據上述例子，$Y$一般被稱為**因變量**或者回歸變量(regressand)，而$X$被稱為回歸量、自變量（independent variable, regressors)。\n",
    "\n",
    "為什麼$X$不能嚴格決定$Y$？很簡單，因為自變量太多了，而我們是無法窮盡（大部分情況）這些自變量，而且如果窮盡了這些自變量，很容易發生「過擬合」的情況(overfitted)；另外，$X$是那些跟$Y$有關的變量，而非絕對的因果關係，如果從英文中，我們可以很容易理解這個「關係」：correlation & causality. \n",
    "\n",
    "現在我們家者一個問題中有因變量$Y$以及自變量$X_1, X_2,\\dots, X_p$.可以設想$Y$的值由兩部分構成，一部分由$X_1, X_2,\\dots, X_p$的影響所導致，一部分是由未知因素導致，我們將第二部分歸咎為「誤差」(error)，這樣一來，我們就可以得到一個式子：\n",
    "$$Y = f(X) + \\epsilon \\ \\ \\ \\ X = (X_1, X_2,\\dots, X_p), \\ \\ \\epsilon = \\text{error}$$\n",
    "作為隨機誤差，我們要求它的期望為零：$\\displaystyle E(\\sum_i^p \\epsilon_i) = 0$\n"
   ]
  },
  {
   "cell_type": "markdown",
   "metadata": {},
   "source": [
    "### 線性迴歸 (Linear Regression)\n",
    "\n",
    "在這裏，我們只討論回歸函數$f(x)$為線型函數的情況（包括可以轉化成線性函數的情況），我們稱其為：線性迴歸(Linear Regression),在這一節，我們只討論簡單線性迴歸，就是一元線性迴歸(Simple Linear Regression)，我們只討論還有一個自變量$X$（因變量只有也只會有一個$Y$）。\n",
    "\n",
    "$\\begin{align*}\n",
    "    Y &=& \\beta_0 + \\beta_1 X + \\epsilon \\\\ \n",
    "    E(\\epsilon) = 0 \\ \\ \\ Var(\\epsilon) = \\sigma^2 \\\\\n",
    " \\end{align*}$\n",
    "where:\n",
    "\n",
    "* $x$: Independent variable(regressor);\n",
    "* $Y$: Dependent variable(response);\n",
    "* $\\epsilon$: Random error;\n",
    "* $\\beta_0, \\beta_1, \\sigma^2$: Unknown parameters;\n",
    "* $\\sigma^2$: Random error variance \n",
    "\n",
    "#### 估計方法 (Methods of Estimation) —— 點估計(Point Estimation) \n",
    "\n",
    "我們對模型的變量$X, Y$進行了$n$次獨立觀察，得樣本：\n",
    "$$(X_1, Y_1), (X_2, Y_2), \\dots, (X_n, Y_n)$$ \n",
    "\n",
    "這組樣本：$y_i = \\beta_0 + \\beta_1 x_i + \\epsilon_i, \\ \\ \\ i = (1,\\dots,n)$\n",
    "我們可以將樣本帶入方程中得出$p$個式子，每一個式子裡都會有一個隨機誤差。\n",
    "\n",
    "我們需要估計$\\beta_0$和$\\beta_1$\n",
    "\n",
    "##### 最小二乘法 (Least Square Estimiation) \n",
    "\n",
    "* 觀測點：$(X_1, Y_1), (X_2, Y_2), \\dots, (X_n, Y_n)$\n",
    "* 函數：$y_i \\beta_0 + \\beta_1 x_i + \\epsilon_i , \\ \\ \\ i = 1,\\dots, n$\n",
    "* $\\epsilon_i, \\dots, \\epsilon_n$ are i.i.d, $\\ E(\\epsilon) = 0, \\ \\ Var(\\epsilon_i) = \\sigma^2$ \n",
    "\n",
    "我們想要估計的是$\\beta_0, \\beta_1$和$\\sigma^2$，我們可以使用**最小二乘法**去進行估計。\n",
    "\n",
    "* 殘差：$e_i = y_i - \\hat{y_i}$;\n",
    "* $Y$的估計值：$\\hat{y_i} = \\hat{beta_0} + \\hat{beta_1}x_i$；\n",
    "* $\\beta_0$和$\\beta_1$ 的估計值：$\\hat{\\beta_0}$ 和 $\\hat{\\beta_1}$.\n",
    "\n",
    "使用最小二乘法的目的就是使得殘差最小化。\n",
    "\n",
    "$$\\displaystyle Q = \\sum_{i=1}^n e_i^2 = \\sum_{i=1}^n(y_i - \\beta_0 - \\beta_1 x_i)^2$$\n",
    "\n",
    "For minimizeing $Q$ with respect to $\\beta_0$ and $\\beta_1$, take derivatives:\n",
    "\n",
    "$\\begin{align*}\n",
    "    &\\frac{\\partial Q}{\\partial \\beta_0} = -2\\sum_{i=1}^n (y_i - \\beta_0 - \\beta_1x_i) = 0 \\\\\n",
    "    &\\frac{\\partial Q}{\\partial \\beta_1} = -2\\sum_{i=1}^n (y_i -\\beta_0 -\\beta_1 x_i)x_i = 0 \\\\\n",
    "    &S_{XX} = \\sum_{i=1}^n (x_i - \\bar{x})^2 = \\sum_{i=1}^n x_i^2 - \\frac{1}{n}(\\sum_{i=1}^n x_i)^2 \\\\\n",
    "    &S_{XY} = \\sum_{i=1}^n (x_i - \\bar{x})(y_i - \\bar{y}) = \\sum_{i=1}^n x_i y_i - \\frac{1}{n}(\\sum_{i=1}^n x_i)(\\sum_{i=1}^n y_i) \\\\\n",
    "  \\end{align*}$\n",
    "$\\Rightarrow \n",
    "    \\begin{equation}\n",
    "        \\left\\{\n",
    "             \\begin{array}{lr}\n",
    "                 \\hat{\\beta_1} = S_{XY} / S_{XX} \\\\\n",
    "                 \\hat{\\beta_0} = \\bar{y} - \\hat{\\beta_1} \\bar{x} \\\\\n",
    "              \\end{array}\n",
    "        \\right.\n",
    "    \\end{equation}\n",
    "$"
   ]
  },
  {
   "cell_type": "markdown",
   "metadata": {},
   "source": [
    "In this section(Using PY in Linear Regression), we will use `numpy`, `scipy.stats`, `matplotlib.pyplot` to do the regression analysis. You can also try `scikit-learn` by yourselves . If you want to know more about the `scikit-learn`, **please skim through its offical website:** <a href=\"https://scikit-learn.org/stable/index.html\"> <strong>scikit-learn</strong> </a>\n"
   ]
  },
  {
   "cell_type": "code",
   "execution_count": 1,
   "metadata": {},
   "outputs": [
    {
     "data": {
      "text/html": [
       "<div>\n",
       "<style scoped>\n",
       "    .dataframe tbody tr th:only-of-type {\n",
       "        vertical-align: middle;\n",
       "    }\n",
       "\n",
       "    .dataframe tbody tr th {\n",
       "        vertical-align: top;\n",
       "    }\n",
       "\n",
       "    .dataframe thead th {\n",
       "        text-align: right;\n",
       "    }\n",
       "</style>\n",
       "<table border=\"1\" class=\"dataframe\">\n",
       "  <thead>\n",
       "    <tr style=\"text-align: right;\">\n",
       "      <th></th>\n",
       "      <th>Hours</th>\n",
       "      <th>Scores</th>\n",
       "    </tr>\n",
       "  </thead>\n",
       "  <tbody>\n",
       "    <tr>\n",
       "      <th>count</th>\n",
       "      <td>25.000000</td>\n",
       "      <td>25.000000</td>\n",
       "    </tr>\n",
       "    <tr>\n",
       "      <th>mean</th>\n",
       "      <td>5.012000</td>\n",
       "      <td>51.480000</td>\n",
       "    </tr>\n",
       "    <tr>\n",
       "      <th>std</th>\n",
       "      <td>2.525094</td>\n",
       "      <td>25.286887</td>\n",
       "    </tr>\n",
       "    <tr>\n",
       "      <th>min</th>\n",
       "      <td>1.100000</td>\n",
       "      <td>17.000000</td>\n",
       "    </tr>\n",
       "    <tr>\n",
       "      <th>25%</th>\n",
       "      <td>2.700000</td>\n",
       "      <td>30.000000</td>\n",
       "    </tr>\n",
       "    <tr>\n",
       "      <th>50%</th>\n",
       "      <td>4.800000</td>\n",
       "      <td>47.000000</td>\n",
       "    </tr>\n",
       "    <tr>\n",
       "      <th>75%</th>\n",
       "      <td>7.400000</td>\n",
       "      <td>75.000000</td>\n",
       "    </tr>\n",
       "    <tr>\n",
       "      <th>max</th>\n",
       "      <td>9.200000</td>\n",
       "      <td>95.000000</td>\n",
       "    </tr>\n",
       "  </tbody>\n",
       "</table>\n",
       "</div>"
      ],
      "text/plain": [
       "           Hours     Scores\n",
       "count  25.000000  25.000000\n",
       "mean    5.012000  51.480000\n",
       "std     2.525094  25.286887\n",
       "min     1.100000  17.000000\n",
       "25%     2.700000  30.000000\n",
       "50%     4.800000  47.000000\n",
       "75%     7.400000  75.000000\n",
       "max     9.200000  95.000000"
      ]
     },
     "execution_count": 1,
     "metadata": {},
     "output_type": "execute_result"
    }
   ],
   "source": [
    "from scipy import stats\n",
    "import numpy as np\n",
    "import matplotlib.pyplot as plt\n",
    "import pandas as pd\n",
    "\n",
    "\n",
    "dataset= pd.read_csv(\"https://raw.githubusercontent.com/TerenceLiu98/Using-R-Series/master/data_set/student_scores.csv\")\n",
    "dataset.shape # dataset's shape\n",
    "dataset.head() # the first five data of the dataset \n",
    "dataset.describe() # to see some statistical details "
   ]
  },
  {
   "cell_type": "code",
   "execution_count": 2,
   "metadata": {},
   "outputs": [
    {
     "data": {
      "image/png": "[encoded data removed]",
      "text/plain": [
       "<matplotlib.figure.Figure at 0x6cc5c6d0>"
      ]
     },
     "metadata": {
      "needs_background": "light"
     },
     "output_type": "display_data"
    }
   ],
   "source": [
    "dataset.plot(x='Hours', y='Scores', style='o')  \n",
    "plt.title('Hours vs Percentage')  \n",
    "plt.xlabel('Hours Studied')  \n",
    "plt.ylabel('Percentage Score')  \n",
    "plt.show()  "
   ]
  },
  {
   "cell_type": "code",
   "execution_count": 3,
   "metadata": {},
   "outputs": [],
   "source": [
    "b_1, b_0, r_value, p_value, std_err = stats.linregress(dataset.Hours,dataset.Scores)"
   ]
  },
  {
   "cell_type": "code",
   "execution_count": 4,
   "metadata": {},
   "outputs": [
    {
     "name": "stdout",
     "output_type": "stream",
     "text": [
      "Linear regression using stats.linregress\n",
      "parameters: b_1=9.78 b_0=2.48 \n",
      "model parameters: r_value =0.98, p_value =0.00, std error= 0.453\n",
      "\n",
      "\n"
     ]
    }
   ],
   "source": [
    "print('Linear regression using stats.linregress')\n",
    "print('parameters: b_1=%.2f b_0=%.2f \\nmodel parameters: r_value =%.2f, p_value =%.2f, std error= %.3f' % (b_1, b_0, r_value, p_value, std_err))\n",
    "print('\\n')"
   ]
  },
  {
   "cell_type": "code",
   "execution_count": 5,
   "metadata": {},
   "outputs": [
    {
     "data": {
      "image/png": "[encoded data removed]",
      "text/plain": [
       "<matplotlib.figure.Figure at 0x6cbaf370>"
      ]
     },
     "metadata": {
      "needs_background": "light"
     },
     "output_type": "display_data"
    }
   ],
   "source": [
    "x = dataset.Hours\n",
    "y = dataset.Scores\n",
    "y_new = b_0 + b_1 * x\n",
    "\n",
    "plt.figure(figsize=(4, 3))\n",
    "ax = plt.axes()\n",
    "ax.scatter(x, y, label = \"original data\")\n",
    "ax.plot(x, y_new, \"r-\",label=\"regression line\")\n",
    "\n",
    "ax.set_xlabel('x')\n",
    "ax.set_ylabel('y')\n",
    "\n",
    "plt.legend(loc = 'best')\n",
    "\n",
    "plt.show() "
   ]
  },
  {
   "cell_type": "markdown",
   "metadata": {},
   "source": [
    "## 多元線性迴歸 (Multiple Linear Regression)"
   ]
  },
  {
   "cell_type": "markdown",
   "metadata": {},
   "source": [
    "考慮完只有一個自變量$X$後，我們需要考慮有$p$個自變量$X_1, X_2, \\dots $X_p$, 因變量依舊只有一個$Y$， 此時模型則變成了：\n",
    "\n",
    "$$Y = \\beta_0 + \\beta_1 X_1 + \\beta_2 X_2 + \\dots + \\epsilon$$\n",
    "\n",
    "自變量增多以後，我們自然需要考慮：是否隨機這個問題，在這裡我們考慮自變量時非隨機的（不然就很難做了）。將所有的自變量看作一個矩陣，$\\beta$看作一個向量，$Y$看作一個向量，$\\epsilon$看作一個向量，這樣，我們就將模型向量化/矩陣化(matrixlize):\n",
    "\n",
    "$$Y = X\\beta + \\epsilon$$ \n",
    "\n",
    "同樣的，我們可以重新考慮最小二乘法。"
   ]
  },
  {
   "cell_type": "markdown",
   "metadata": {},
   "source": [
    "$\\begin{align*}\n",
    "    Q &= (X\\beta - y)^T(X\\beta - y) \\\\\n",
    "      &\\vdots \\\\\n",
    "\\end{align*}$\n",
    "\n",
    "可以計算出：$\\hat{\\beta} = (X^T X)^{-1}X^T Y$ "
   ]
  },
  {
   "cell_type": "markdown",
   "metadata": {},
   "source": [
    "下面，我們用一個例子來解釋一下代碼部分：\n",
    "\n",
    "下面是一個數據集，我們用多元線性迴歸來预测美国48个州的汽油消耗量(以百万加仑为单位)，其基础是汽油税(以美分为单位)、人均收入(以美元为单位)、铺设的公路(以英里为单位)以及拥有驾照的人口比例。"
   ]
  },
  {
   "cell_type": "code",
   "execution_count": 6,
   "metadata": {},
   "outputs": [
    {
     "data": {
      "text/html": [
       "<div>\n",
       "<style scoped>\n",
       "    .dataframe tbody tr th:only-of-type {\n",
       "        vertical-align: middle;\n",
       "    }\n",
       "\n",
       "    .dataframe tbody tr th {\n",
       "        vertical-align: top;\n",
       "    }\n",
       "\n",
       "    .dataframe thead th {\n",
       "        text-align: right;\n",
       "    }\n",
       "</style>\n",
       "<table border=\"1\" class=\"dataframe\">\n",
       "  <thead>\n",
       "    <tr style=\"text-align: right;\">\n",
       "      <th></th>\n",
       "      <th>Index</th>\n",
       "      <th>One</th>\n",
       "      <th>Petrol tax (cents per gallon)</th>\n",
       "      <th>Average income (dollars)</th>\n",
       "      <th>Paved Highways (miles)</th>\n",
       "      <th>Proportion of population with driver's licenses</th>\n",
       "      <th>Consumption of petrol (millions of gallons)</th>\n",
       "    </tr>\n",
       "  </thead>\n",
       "  <tbody>\n",
       "    <tr>\n",
       "      <th>0</th>\n",
       "      <td>1</td>\n",
       "      <td>1</td>\n",
       "      <td>9.0</td>\n",
       "      <td>3571</td>\n",
       "      <td>1976</td>\n",
       "      <td>0.525</td>\n",
       "      <td>541</td>\n",
       "    </tr>\n",
       "    <tr>\n",
       "      <th>1</th>\n",
       "      <td>2</td>\n",
       "      <td>1</td>\n",
       "      <td>9.0</td>\n",
       "      <td>4092</td>\n",
       "      <td>1250</td>\n",
       "      <td>0.572</td>\n",
       "      <td>524</td>\n",
       "    </tr>\n",
       "    <tr>\n",
       "      <th>2</th>\n",
       "      <td>3</td>\n",
       "      <td>1</td>\n",
       "      <td>9.0</td>\n",
       "      <td>3865</td>\n",
       "      <td>1586</td>\n",
       "      <td>0.580</td>\n",
       "      <td>561</td>\n",
       "    </tr>\n",
       "    <tr>\n",
       "      <th>3</th>\n",
       "      <td>4</td>\n",
       "      <td>1</td>\n",
       "      <td>7.5</td>\n",
       "      <td>4870</td>\n",
       "      <td>2351</td>\n",
       "      <td>0.529</td>\n",
       "      <td>414</td>\n",
       "    </tr>\n",
       "    <tr>\n",
       "      <th>4</th>\n",
       "      <td>5</td>\n",
       "      <td>1</td>\n",
       "      <td>8.0</td>\n",
       "      <td>4399</td>\n",
       "      <td>431</td>\n",
       "      <td>0.544</td>\n",
       "      <td>410</td>\n",
       "    </tr>\n",
       "  </tbody>\n",
       "</table>\n",
       "</div>"
      ],
      "text/plain": [
       "   Index  One  Petrol tax (cents per gallon)  Average income (dollars)  \\\n",
       "0      1    1                            9.0                      3571   \n",
       "1      2    1                            9.0                      4092   \n",
       "2      3    1                            9.0                      3865   \n",
       "3      4    1                            7.5                      4870   \n",
       "4      5    1                            8.0                      4399   \n",
       "\n",
       "   Paved Highways (miles)  Proportion of population with driver's licenses  \\\n",
       "0                    1976                                            0.525   \n",
       "1                    1250                                            0.572   \n",
       "2                    1586                                            0.580   \n",
       "3                    2351                                            0.529   \n",
       "4                     431                                            0.544   \n",
       "\n",
       "   Consumption of petrol (millions of gallons)  \n",
       "0                                          541  \n",
       "1                                          524  \n",
       "2                                          561  \n",
       "3                                          414  \n",
       "4                                          410  "
      ]
     },
     "execution_count": 6,
     "metadata": {},
     "output_type": "execute_result"
    }
   ],
   "source": [
    "import pandas as pd \n",
    "import numpy as np \n",
    "import matplotlib.pyplot as plt \n",
    "\n",
    "dataset = pd.read_csv(\"https://raw.githubusercontent.com/TerenceLiu98/Using-R-Series/master/data_set/price.csv\")\n",
    "dataset.shape # dataset's shape\n",
    "dataset.head() # the first five data of the dataset "
   ]
  },
  {
   "cell_type": "code",
   "execution_count": 7,
   "metadata": {},
   "outputs": [
    {
     "data": {
      "text/html": [
       "<div>\n",
       "<style scoped>\n",
       "    .dataframe tbody tr th:only-of-type {\n",
       "        vertical-align: middle;\n",
       "    }\n",
       "\n",
       "    .dataframe tbody tr th {\n",
       "        vertical-align: top;\n",
       "    }\n",
       "\n",
       "    .dataframe thead th {\n",
       "        text-align: right;\n",
       "    }\n",
       "</style>\n",
       "<table border=\"1\" class=\"dataframe\">\n",
       "  <thead>\n",
       "    <tr style=\"text-align: right;\">\n",
       "      <th></th>\n",
       "      <th>Index</th>\n",
       "      <th>One</th>\n",
       "      <th>Petrol tax (cents per gallon)</th>\n",
       "      <th>Average income (dollars)</th>\n",
       "      <th>Paved Highways (miles)</th>\n",
       "      <th>Proportion of population with driver's licenses</th>\n",
       "      <th>Consumption of petrol (millions of gallons)</th>\n",
       "    </tr>\n",
       "  </thead>\n",
       "  <tbody>\n",
       "    <tr>\n",
       "      <th>count</th>\n",
       "      <td>48.00</td>\n",
       "      <td>48.0</td>\n",
       "      <td>48.000000</td>\n",
       "      <td>48.000000</td>\n",
       "      <td>48.000000</td>\n",
       "      <td>48.000000</td>\n",
       "      <td>48.000000</td>\n",
       "    </tr>\n",
       "    <tr>\n",
       "      <th>mean</th>\n",
       "      <td>24.50</td>\n",
       "      <td>1.0</td>\n",
       "      <td>7.668333</td>\n",
       "      <td>4241.833333</td>\n",
       "      <td>5565.416667</td>\n",
       "      <td>0.570333</td>\n",
       "      <td>576.770833</td>\n",
       "    </tr>\n",
       "    <tr>\n",
       "      <th>std</th>\n",
       "      <td>14.00</td>\n",
       "      <td>0.0</td>\n",
       "      <td>0.950770</td>\n",
       "      <td>573.623768</td>\n",
       "      <td>3491.507166</td>\n",
       "      <td>0.055470</td>\n",
       "      <td>111.885816</td>\n",
       "    </tr>\n",
       "    <tr>\n",
       "      <th>min</th>\n",
       "      <td>1.00</td>\n",
       "      <td>1.0</td>\n",
       "      <td>5.000000</td>\n",
       "      <td>3063.000000</td>\n",
       "      <td>431.000000</td>\n",
       "      <td>0.451000</td>\n",
       "      <td>344.000000</td>\n",
       "    </tr>\n",
       "    <tr>\n",
       "      <th>25%</th>\n",
       "      <td>12.75</td>\n",
       "      <td>1.0</td>\n",
       "      <td>7.000000</td>\n",
       "      <td>3739.000000</td>\n",
       "      <td>3110.250000</td>\n",
       "      <td>0.529750</td>\n",
       "      <td>509.500000</td>\n",
       "    </tr>\n",
       "    <tr>\n",
       "      <th>50%</th>\n",
       "      <td>24.50</td>\n",
       "      <td>1.0</td>\n",
       "      <td>7.500000</td>\n",
       "      <td>4298.000000</td>\n",
       "      <td>4735.500000</td>\n",
       "      <td>0.564500</td>\n",
       "      <td>568.500000</td>\n",
       "    </tr>\n",
       "    <tr>\n",
       "      <th>75%</th>\n",
       "      <td>36.25</td>\n",
       "      <td>1.0</td>\n",
       "      <td>8.125000</td>\n",
       "      <td>4578.750000</td>\n",
       "      <td>7156.000000</td>\n",
       "      <td>0.595250</td>\n",
       "      <td>632.750000</td>\n",
       "    </tr>\n",
       "    <tr>\n",
       "      <th>max</th>\n",
       "      <td>48.00</td>\n",
       "      <td>1.0</td>\n",
       "      <td>10.000000</td>\n",
       "      <td>5342.000000</td>\n",
       "      <td>17782.000000</td>\n",
       "      <td>0.724000</td>\n",
       "      <td>968.000000</td>\n",
       "    </tr>\n",
       "  </tbody>\n",
       "</table>\n",
       "</div>"
      ],
      "text/plain": [
       "       Index   One  Petrol tax (cents per gallon)  Average income (dollars)  \\\n",
       "count  48.00  48.0                      48.000000                 48.000000   \n",
       "mean   24.50   1.0                       7.668333               4241.833333   \n",
       "std    14.00   0.0                       0.950770                573.623768   \n",
       "min     1.00   1.0                       5.000000               3063.000000   \n",
       "25%    12.75   1.0                       7.000000               3739.000000   \n",
       "50%    24.50   1.0                       7.500000               4298.000000   \n",
       "75%    36.25   1.0                       8.125000               4578.750000   \n",
       "max    48.00   1.0                      10.000000               5342.000000   \n",
       "\n",
       "       Paved Highways (miles)  \\\n",
       "count               48.000000   \n",
       "mean              5565.416667   \n",
       "std               3491.507166   \n",
       "min                431.000000   \n",
       "25%               3110.250000   \n",
       "50%               4735.500000   \n",
       "75%               7156.000000   \n",
       "max              17782.000000   \n",
       "\n",
       "       Proportion of population with driver's licenses  \\\n",
       "count                                        48.000000   \n",
       "mean                                          0.570333   \n",
       "std                                           0.055470   \n",
       "min                                           0.451000   \n",
       "25%                                           0.529750   \n",
       "50%                                           0.564500   \n",
       "75%                                           0.595250   \n",
       "max                                           0.724000   \n",
       "\n",
       "       Consumption of petrol (millions of gallons)  \n",
       "count                                    48.000000  \n",
       "mean                                    576.770833  \n",
       "std                                     111.885816  \n",
       "min                                     344.000000  \n",
       "25%                                     509.500000  \n",
       "50%                                     568.500000  \n",
       "75%                                     632.750000  \n",
       "max                                     968.000000  "
      ]
     },
     "execution_count": 7,
     "metadata": {},
     "output_type": "execute_result"
    }
   ],
   "source": [
    "dataset.describe() # to see some statistical details"
   ]
  },
  {
   "cell_type": "code",
   "execution_count": 8,
   "metadata": {},
   "outputs": [
    {
     "data": {
      "text/plain": [
       "Index(['Index', 'One', 'Petrol tax (cents per gallon)',\n",
       "       'Average income (dollars)', 'Paved Highways (miles)',\n",
       "       'Proportion of population with driver's licenses',\n",
       "       'Consumption of petrol (millions of gallons)'],\n",
       "      dtype='object')"
      ]
     },
     "execution_count": 8,
     "metadata": {},
     "output_type": "execute_result"
    }
   ],
   "source": [
    "dataset.dtypes.index # get the row's name of the dataset, this can make next step easier"
   ]
  },
  {
   "cell_type": "code",
   "execution_count": 9,
   "metadata": {},
   "outputs": [],
   "source": [
    "X = dataset[['Petrol tax (cents per gallon)',\n",
    "       'Average income (dollars)', 'Paved Highways (miles)',\n",
    "       \"Proportion of population with driver's licenses\"]]\n",
    "y = dataset['Consumption of petrol (millions of gallons)']  "
   ]
  },
  {
   "cell_type": "markdown",
   "metadata": {},
   "source": [
    "為了訓練模型，我們使用 `fitted`："
   ]
  },
  {
   "cell_type": "code",
   "execution_count": 10,
   "metadata": {},
   "outputs": [],
   "source": [
    "from sklearn.model_selection import train_test_split  \n",
    "X_train, X_test, y_train, y_test = train_test_split(X, y, test_size=0.2, random_state=0)  "
   ]
  },
  {
   "cell_type": "markdown",
   "metadata": {},
   "source": [
    "如一元線性迴歸一樣，在多元線性迴歸的情況下，回歸模型必須找到所有參數的最優係數："
   ]
  },
  {
   "cell_type": "code",
   "execution_count": 11,
   "metadata": {},
   "outputs": [
    {
     "data": {
      "text/html": [
       "<div>\n",
       "<style scoped>\n",
       "    .dataframe tbody tr th:only-of-type {\n",
       "        vertical-align: middle;\n",
       "    }\n",
       "\n",
       "    .dataframe tbody tr th {\n",
       "        vertical-align: top;\n",
       "    }\n",
       "\n",
       "    .dataframe thead th {\n",
       "        text-align: right;\n",
       "    }\n",
       "</style>\n",
       "<table border=\"1\" class=\"dataframe\">\n",
       "  <thead>\n",
       "    <tr style=\"text-align: right;\">\n",
       "      <th></th>\n",
       "      <th>Coefficient</th>\n",
       "    </tr>\n",
       "  </thead>\n",
       "  <tbody>\n",
       "    <tr>\n",
       "      <th>Petrol tax (cents per gallon)</th>\n",
       "      <td>-40.016660</td>\n",
       "    </tr>\n",
       "    <tr>\n",
       "      <th>Average income (dollars)</th>\n",
       "      <td>-0.065413</td>\n",
       "    </tr>\n",
       "    <tr>\n",
       "      <th>Paved Highways (miles)</th>\n",
       "      <td>-0.004741</td>\n",
       "    </tr>\n",
       "    <tr>\n",
       "      <th>Proportion of population with driver's licenses</th>\n",
       "      <td>1341.862121</td>\n",
       "    </tr>\n",
       "  </tbody>\n",
       "</table>\n",
       "</div>"
      ],
      "text/plain": [
       "                                                 Coefficient\n",
       "Petrol tax (cents per gallon)                     -40.016660\n",
       "Average income (dollars)                           -0.065413\n",
       "Paved Highways (miles)                             -0.004741\n",
       "Proportion of population with driver's licenses  1341.862121"
      ]
     },
     "execution_count": 11,
     "metadata": {},
     "output_type": "execute_result"
    }
   ],
   "source": [
    "from sklearn.linear_model import LinearRegression  \n",
    "regressor = LinearRegression()  \n",
    "regressor.fit(X_train, y_train) \n",
    "\n",
    "coeff_df = pd.DataFrame(regressor.coef_, X.columns, columns=['Coefficient'])  \n",
    "coeff_df  "
   ]
  },
  {
   "cell_type": "markdown",
   "metadata": {},
   "source": [
    "下面是應用模型進行預測："
   ]
  },
  {
   "cell_type": "code",
   "execution_count": 12,
   "metadata": {},
   "outputs": [],
   "source": [
    "y_pred = regressor.predict(X_test)  "
   ]
  },
  {
   "cell_type": "code",
   "execution_count": 13,
   "metadata": {},
   "outputs": [
    {
     "data": {
      "text/html": [
       "<div>\n",
       "<style scoped>\n",
       "    .dataframe tbody tr th:only-of-type {\n",
       "        vertical-align: middle;\n",
       "    }\n",
       "\n",
       "    .dataframe tbody tr th {\n",
       "        vertical-align: top;\n",
       "    }\n",
       "\n",
       "    .dataframe thead th {\n",
       "        text-align: right;\n",
       "    }\n",
       "</style>\n",
       "<table border=\"1\" class=\"dataframe\">\n",
       "  <thead>\n",
       "    <tr style=\"text-align: right;\">\n",
       "      <th></th>\n",
       "      <th>Actual</th>\n",
       "      <th>Predicted</th>\n",
       "    </tr>\n",
       "  </thead>\n",
       "  <tbody>\n",
       "    <tr>\n",
       "      <th>29</th>\n",
       "      <td>534</td>\n",
       "      <td>469.391989</td>\n",
       "    </tr>\n",
       "    <tr>\n",
       "      <th>4</th>\n",
       "      <td>410</td>\n",
       "      <td>545.645464</td>\n",
       "    </tr>\n",
       "    <tr>\n",
       "      <th>26</th>\n",
       "      <td>577</td>\n",
       "      <td>589.668394</td>\n",
       "    </tr>\n",
       "    <tr>\n",
       "      <th>30</th>\n",
       "      <td>571</td>\n",
       "      <td>569.730413</td>\n",
       "    </tr>\n",
       "    <tr>\n",
       "      <th>32</th>\n",
       "      <td>577</td>\n",
       "      <td>649.774809</td>\n",
       "    </tr>\n",
       "    <tr>\n",
       "      <th>37</th>\n",
       "      <td>704</td>\n",
       "      <td>646.631164</td>\n",
       "    </tr>\n",
       "    <tr>\n",
       "      <th>34</th>\n",
       "      <td>487</td>\n",
       "      <td>511.608148</td>\n",
       "    </tr>\n",
       "    <tr>\n",
       "      <th>40</th>\n",
       "      <td>587</td>\n",
       "      <td>672.475177</td>\n",
       "    </tr>\n",
       "    <tr>\n",
       "      <th>7</th>\n",
       "      <td>467</td>\n",
       "      <td>502.074782</td>\n",
       "    </tr>\n",
       "    <tr>\n",
       "      <th>10</th>\n",
       "      <td>580</td>\n",
       "      <td>501.270734</td>\n",
       "    </tr>\n",
       "  </tbody>\n",
       "</table>\n",
       "</div>"
      ],
      "text/plain": [
       "    Actual   Predicted\n",
       "29     534  469.391989\n",
       "4      410  545.645464\n",
       "26     577  589.668394\n",
       "30     571  569.730413\n",
       "32     577  649.774809\n",
       "37     704  646.631164\n",
       "34     487  511.608148\n",
       "40     587  672.475177\n",
       "7      467  502.074782\n",
       "10     580  501.270734"
      ]
     },
     "execution_count": 13,
     "metadata": {},
     "output_type": "execute_result"
    }
   ],
   "source": [
    "df = pd.DataFrame({'Actual': y_test, 'Predicted': y_pred})  \n",
    "df  "
   ]
  },
  {
   "cell_type": "code",
   "execution_count": 14,
   "metadata": {},
   "outputs": [
    {
     "name": "stdout",
     "output_type": "stream",
     "text": [
      "Mean Absolute Error: 56.82224747896468\n",
      "Mean Squared Error: 4666.344787588359\n",
      "Root Mean Squared Error: 68.31064915215167\n"
     ]
    }
   ],
   "source": [
    "from sklearn import metrics  \n",
    "print('Mean Absolute Error:', metrics.mean_absolute_error(y_test, y_pred))  \n",
    "print('Mean Squared Error:', metrics.mean_squared_error(y_test, y_pred))  \n",
    "print('Root Mean Squared Error:', np.sqrt(metrics.mean_squared_error(y_test, y_pred)))  "
   ]
  },
  {
   "cell_type": "markdown",
   "metadata": {},
   "source": [
    "## Logistic Regression （逻辑斯蒂回归）\n",
    "\n",
    "*奇奇怪怪的音譯*\n",
    "\n",
    "到目前為止，我們已經接觸了 **Simple Linear Regression** 和 **Multiple Regression** \n",
    "\n",
    "* Simple linear regression\n",
    "    * Relationship between numerical response and a numerical or categorical predictor\n",
    "* Multiple regression \n",
    "    * Relationship between numerical response and multiple numerical and/or categorical predictors.\n",
    "\n",
    "但是，有沒有想過，如果自變量(predictors)是一些非常奇怪的數：非線性，又或者自變量之間有非常大相關性（高共線性），又或者，因變量(response)非常奇怪呢，比如自變量是屬性變量。\n",
    "\n"
   ]
  },
  {
   "cell_type": "markdown",
   "metadata": {},
   "source": [
    "### 回顧所學知識\n",
    "\n",
    "在統計課程裡，關於回歸，我們學過什麼？\n",
    "* Model parameter interpretation & estimation \n",
    "* Hypothesis tests for slope and intercept parameters \n",
    "* Hypothesis tests for all regression parameters \n",
    "* Confidence intervals for regression parameters \n",
    "* Confidence and prediction intervals for predicted means and values(SLR only)\n",
    "* Model diagnostics, residuals plot, outliers\n",
    "* $R^2$, Adjusted $R^2$ \n",
    "* Model selection (MLR only)\n",
    "* Simple transformations \n",
    "\n",
    "### 發生比 (Odds)\n",
    "\n",
    "這是另外一種方式來量化某件事情發生的概率。一般的，這個概念會用在賭博上(logistic regression 也會用到)\n",
    "\n",
    "Odds 就是指， 假設事件$E$，\n",
    "\n",
    "$$ odds(E) = \\frac{P(E)}{P(E^C)} = \\frac{P(E)}{1 - P(E)} $$\n",
    "\n",
    "如果我們知道發生的次數是$x$、不發生的次數用$y$表示的話：\n",
    "\n",
    "$$ odds(E) = \\frac{x}{y} = \\frac{x / (x + y)}{y / (x + y)}$$\n",
    "\n",
    "這也就代表著：\n",
    "\n",
    "$$P(E) = \\frac{x}{x + y}, \\ \\ P(E^C) = \\frac{y}{x + y}$$\n",
    "\n",
    "可以看出 $odds(p)$ 是一個關於$p$的一個遞增函數；如果我們對 odds 取對數，也就是$log\\frac{p}{1 - p}$，此時，依舊是一個遞增函數，取對數之後，就可以將除法轉換成為減法：$logit(p) = p - (1 - p) = 2p - 1$"
   ]
  },
  {
   "cell_type": "markdown",
   "metadata": {},
   "source": [
    "這是一種非常廣義的思路去理解回歸，而這種思路被稱為**廣義線性模型(Generalized Linear Regression Models - GLMs)** 而邏輯斯蒂回歸這是其中的一種。\n",
    "\n",
    "GLM 中統一了線性迴歸模型與允許納入非正態因變量分佈的非線性迴歸模型。\n",
    "\n",
    "洛基斯蒂回歸的情形是因變量只有兩種可能的結果，一般稱為「成功」和「失敗」， 表示$0$和$1$。\n",
    "\n",
    "### 邏輯斯蒂回歸模型 \n",
    "\n",
    "#### Binomial Dependent Variable's Model\n",
    "\n",
    "**響應變量只有 $0$ 和 $1$**。 \n",
    "\n",
    "假設回歸模型的形式：\n",
    "\n",
    "$$y_i = x_i'\\beta + \\epsilon_i$$\n",
    "\n",
    "式子中：$x_i' = [1, x_{i1}, x_{i2}, \\dots, x_{ik}], \\ \\ \\ \\beta' = [\\beta_0, \\beta_1, \\dots, \\beta_k]$, 而 $y_i$ 的取值要麼是 $0$ 要們為 $1$。 \n",
    "\n",
    "$$ y_i \\left\\{\n",
    "\\begin{aligned}\n",
    "&1 \\ \\text{when} P(y_i = 1) - \\pi \\\\\n",
    "&0 \\ \\text{when} P(y_i = 0) = 1- \\pi\n",
    "\\end{aligned}\n",
    "\\right.\n",
    "$$\n",
    "\n",
    "現在由於$E(\\epsilon_i) = 0$，所以因變量的期望值為：$E(y_i) = 1(\\pi_i) + 0 ( 1 - \\pi_i) = \\pi_i$，這意味著 $E(y_i) = x_i'\\beta = \\pi$ 這個式子說明了因變量的期望由因變量變量函數$E(y_i) = x_i'\\beta$給出，而該期望也恰是因變量值等於$1$時的概率只能取兩個值：\n",
    "\n",
    "$$ \\epsilon_i \\left\\{\n",
    "\\begin{aligned}\n",
    "&1 - x_i'\\beta  \\ \\ \\text{when} y_i = 1 \\\\\n",
    "&- x_i'\\beta \\ \\ \\text{when} y_i = 0 \n",
    "\\end{aligned}\n",
    "\\right.\n",
    "$$"
   ]
  },
  {
   "cell_type": "markdown",
   "metadata": {},
   "source": [
    "因此，這個模型的誤差不可能是正態的；第二，誤差的方差不是常數：這是因為：$\\sigma^2_{yi} = E\\{y_i - E(y_i)\\}^2 = (1 - \\pi_i)^2 \\pi_i + (0 - \\pi_i)^2(1 - \\pi_i) = \\pi_i(1 - \\pi_i)$ 注意到$E(y_i) = x_i'\\beta = \\pi_i$，所以上一表達式就是 \n",
    "\n",
    "$$\\sigma^2_{yi} = E(y_i)[1 - E(y_i)]$$\n"
   ]
  },
  {
   "cell_type": "markdown",
   "metadata": {},
   "source": [
    "這個式子說明了，觀測值的方差是一個關於均值的函數，又因為$0 \\leq E(y_i) = \\pi_i < 1$ 所以因變量函數存在一個約束。"
   ]
  },
  {
   "cell_type": "markdown",
   "metadata": {},
   "source": [
    "我們可以讓$log\\frac{p(x)}{1 - p(x)} = \\beta_0 + x'\\beta$ 這就是邏輯斯蒂模型 $\\Rightarrow = \\mathbf{\\frac{1}{1 + exp[-x'\\beta]}}$"
   ]
  },
  {
   "cell_type": "markdown",
   "metadata": {},
   "source": [
    "### Likelihood Function for Logistic Regression\n",
    "\n",
    "Because logistic regression predicts probabilities, rather than just classes, we can fit it using likelihood. For each training data-point, we have a vector of features, $x_i$, and an observed calss, $y_i$. The probability of that class was either $p$, if $y_i = 1$, or $1 - p$, if $y_i = 0$. The likelihood is then \n",
    "\n",
    "$$\\displaystyle L(\\beta_0, \\beta) = \\prod_{i=1}^n p(x_i)^{y_i}(1 - p(x_i)^{1 - y_i}$$ \n",
    "\n",
    "The log-likelihood turns product into sums:\n",
    "\n",
    "$\\begin{align*}\n",
    "\\boldsymbol{L}(\\beta_0, \\beta) &= \\sum_{i=1}^n y_i log p(x_i) + (1 - y_i) log 1 - p(x_i) \\\\ \n",
    "                  &= \\sum_{i=1}^n log 1 - p(x_i) + \\sum_{i = 1}^n y_i log \\frac{p(x_i)}{1 - p(x_i)} \\\\\n",
    "                  &= -\\sum_{i=1}^n log 1 - exp[\\beta_0 + x_i \\beta + \\sum_{i = 1}^n (\\beta_0 + x_i \\beta) \\\\\n",
    "\\end{align*}$\n",
    "                  \n",
    "Typically, to find the **maximum likelihood estimates we'd differentiate the log likelihood with respect to the parameters**, set the derivatives equal to zero, and solve. To start that, take the derivative with respect to one component of $\\beta$, seay $\\beta_j$: \n",
    "\n",
    "$\\begin{align*}\n",
    "    \\frac{\\partial L}{\\partial \\beta_j} = -\\sum_{i = 1}^n \\frac{1}{1 + e^{\\beta_0 + x_i \\beta}}x_{ij} + \\sum_{i = 1}^n y_i x_{ij} \\\\\n",
    "    = \\sum_{i = 1}^n (y_i - (x_i; \\beta_0, \\beta))x_{ij} \\\\\n",
    "\\end{align*}$\n",
    "\n",
    "We are not going to be able to set this to zero and solve exactly. (That's a transcendental equation, and there is no closed-form solution.) We can however approximately solve it numerically, by numerical methods. \n"
   ]
  },
  {
   "cell_type": "markdown",
   "metadata": {},
   "source": [
    "## Code "
   ]
  },
  {
   "cell_type": "code",
   "execution_count": 35,
   "metadata": {},
   "outputs": [
    {
     "name": "stderr",
     "output_type": "stream",
     "text": [
      "/usr/local/lib/python3.5/dist-packages/sklearn/linear_model/logistic.py:758: ConvergenceWarning: lbfgs failed to converge. Increase the number of iterations.\n",
      "  \"of iterations.\", ConvergenceWarning)\n"
     ]
    },
    {
     "data": {
      "text/plain": [
       "0.9733333333333334"
      ]
     },
     "execution_count": 35,
     "metadata": {},
     "output_type": "execute_result"
    }
   ],
   "source": [
    "from sklearn.datasets import load_iris\n",
    "from sklearn.linear_model import LogisticRegression\n",
    "X, y = load_iris(return_X_y=True)\n",
    "clf = LogisticRegression(random_state=0, solver='lbfgs',\n",
    "                         multi_class='multinomial').fit(X, y)\n",
    "clf.predict(X[:2, :])\n",
    "\n",
    "clf.predict_proba(X[:2, :]) \n",
    "\n",
    "\n",
    "clf.score(X, y)"
   ]
  },
  {
   "cell_type": "code",
   "execution_count": null,
   "metadata": {},
   "outputs": [],
   "source": []
  }
 ],
 "metadata": {
  "kernelspec": {
   "display_name": "Python 3",
   "language": "python",
   "name": "python3"
  },
  "language_info": {
   "codemirror_mode": {
    "name": "ipython",
    "version": 3
   },
   "file_extension": ".py",
   "mimetype": "text/x-python",
   "name": "python",
   "nbconvert_exporter": "python",
   "pygments_lexer": "ipython3",
   "version": "3.5.3"
  }
 },
 "nbformat": 4,
 "nbformat_minor": 2
}
