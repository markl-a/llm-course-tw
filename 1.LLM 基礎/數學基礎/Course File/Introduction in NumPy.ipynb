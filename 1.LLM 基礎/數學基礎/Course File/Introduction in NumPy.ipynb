{
 "cells": [
  {
   "cell_type": "markdown",
   "metadata": {},
   "source": [
    "<br>\n",
    "  <a href=\"https://colab.research.google.com/github/markl-a/llm-course-tw/blob/main/1.LLM%20基礎/數學基礎/Course%20File/Introduction%20in%20NumPy.ipynb\"><img src=\"https://colab.research.google.com/assets/colab-badge.svg\" alt=\"Open In Colab\"></a>\n",
    "<br>"
   ]
  },
  {
   "cell_type": "markdown",
   "metadata": {},
   "source": [
    "# Numpy\n",
    "\n",
    "Numpy是Python中用於科學計算的核心庫。它提供了一個高性能的多維數組對象，以及用於處理這些數組的工具。"
   ]
  },
  {
   "cell_type": "markdown",
   "metadata": {},
   "source": [
    "## 數組 Array \n",
    "\n",
    "一個numpy數組是一個由多個數值組成的網格，所有值的類型相同，並且由一個非負整數的元組索引(類似1,2,3這樣)。當我們談到數組的\"維度 dimensions\"時，其實就是在說數組有幾層rank；而數組的\"形狀 shape\"則是指在每一層裡面，數組有多長(數目)。\n",
    "\n",
    "我們可以用Python裡面的列表來創建一個numpy數組，然後根據方括號來找到數組裡面的元素。"
   ]
  },
  {
   "cell_type": "code",
   "execution_count": 1,
   "metadata": {},
   "outputs": [
    {
     "name": "stdout",
     "output_type": "stream",
     "text": [
      "<class 'numpy.ndarray'>\n",
      "(3,)\n",
      "1 2 3\n",
      "[1 2 3]\n",
      "(2, 3)\n",
      "1 2 4\n"
     ]
    }
   ],
   "source": [
    "import numpy as np\n",
    "\n",
    "a  = np.array([1,2,3]) # Create a rank 1 array \n",
    "print(type(a)) \n",
    "print(a.shape)\n",
    "print(a[0],a[1],a[2])\n",
    "print(a)\n",
    "\n",
    "b = np.array([[1,2,3],[4,5,6]])\n",
    "print(b.shape)\n",
    "print(b[0,0],b[0,1],b[1,0])"
   ]
  },
  {
   "cell_type": "markdown",
   "metadata": {},
   "source": [
    "Numpy also provides many function to create arrays:\n",
    "*You can get more information from the <a href=\"https://docs.scipy.org/doc/numpy/user/basics.creation.html#arrays-creation\"> official doc.</a>"
   ]
  },
  {
   "cell_type": "code",
   "execution_count": 2,
   "metadata": {},
   "outputs": [
    {
     "name": "stdout",
     "output_type": "stream",
     "text": [
      "a is [[0. 0.]\n",
      " [0. 0.]]\n",
      "b is [[1. 1.]]\n",
      "c is [[7 7]\n",
      " [7 7]]\n",
      "d is [[1. 0.]\n",
      " [0. 1.]]\n",
      "e is [[0.3073332  0.06301426]\n",
      " [0.99383283 0.55818786]]\n"
     ]
    }
   ],
   "source": [
    "a = np.zeros((2,2)) # an array of all zeros\n",
    "print('a is', a) \n",
    "\n",
    "b = np.ones((1,2)) # crate an array of all ones\n",
    "print('b is', b)\n",
    "\n",
    "c = np.full((2,2,),7) # crate an array of one constant \n",
    "print('c is', c)\n",
    "\n",
    "d = np.eye(2) # a 2 times 2 identity matrix\n",
    "print('d is', d)\n",
    "\n",
    "e = np.random.random((2,2)) # an array with random values\n",
    "print('e is',e)"
   ]
  },
  {
   "cell_type": "markdown",
   "metadata": {},
   "source": [
    "## 數組索引 Array indexing\n",
    "\n",
    "Numpy offers serval ways to index into arrays.\n",
    "\n",
    "Numpy提供了幾種索引數組的方式。\n",
    "\n",
    "**Slicing**: Since Array could be a high-dimensional, we must specify a slice for each dimension of the array.\n",
    "\n",
    "切片：由於數組可能是高維的，我們必須為數組的每個維度指定一個切片。"
   ]
  },
  {
   "cell_type": "code",
   "execution_count": 3,
   "metadata": {},
   "outputs": [
    {
     "name": "stdout",
     "output_type": "stream",
     "text": [
      "[[ 1  2  3  4]\n",
      " [ 5  6  7  8]\n",
      " [ 9 10 11 12]]\n",
      "\n",
      "\n",
      "[[ 6]\n",
      " [10]]\n",
      "\n",
      "\n",
      "7\n"
     ]
    }
   ],
   "source": [
    "# Create the following rank 2 array with shape (3, 4)\n",
    "# [[ 1  2  3  4]\n",
    "#  [ 5  6  7  8]\n",
    "#  [ 9 10 11 12]]\n",
    "a = np.array([[1,2,3,4],[5,6,7,8],[9,10,11,12]])\n",
    "print(a)\n",
    "print(\"\\n\")\n",
    "b = a[1:3,1:2]\n",
    "print(b)\n",
    "# A slice of an array is a view into the same data, so modifying it\n",
    "# will modify the original array.\n",
    "print(\"\\n\")\n",
    "print(a[1,2]) # before the comma it represents the row; the after one is the column"
   ]
  },
  {
   "cell_type": "markdown",
   "metadata": {},
   "source": [
    "## 數據類型 Datatypes\n",
    "\n",
    "每個numpy數組都是同一類型元素的集合。Numpy提供了一大套數字數據類型，您可以使用這些數據類型來構造數組。當您創建數組時，Numpy會嘗試猜測一個數據類型，但構造數組的函數通常也會包含一個可選參數，以明確指定數據類型。這裡是一個例子：\n",
    "\n",
    "Every numpy array is a fride of elements of the same type. Numpy provides a large set of numeric datatypes that you can use to construct arrays. Numpy tries to guess a datatype when you create an array, but functions that construct arrays usually also include an optional arguments to explicity specify the datatype. Here is an example: "
   ]
  },
  {
   "cell_type": "code",
   "execution_count": 4,
   "metadata": {},
   "outputs": [
    {
     "name": "stdout",
     "output_type": "stream",
     "text": [
      "int64\n",
      "float64\n",
      "float64\n"
     ]
    }
   ],
   "source": [
    "# Let numpy choose the datatype\n",
    "x_int64 = np.array([1,2])\n",
    "print(x_int64.dtype) #Prints \"int64\"\n",
    "\n",
    "x_float64 = np.array([1.0,2.0])\n",
    "print(x_float64.dtype) # Prints \"float64\"\n",
    "\n",
    "x_1 = np.array([1,2], dtype = np.float64)\n",
    "print(x_1.dtype)"
   ]
  },
  {
   "cell_type": "markdown",
   "metadata": {},
   "source": [
    "## 陣列數學 Array Math \n",
    "\n",
    "## 陣列數學\n",
    "\n",
    "我們可以使用陣列來進行數學運算，但我們也可以將其視為矩陣的工作。實際上，numpy為我們提供了一種使用矩陣的方法。\n",
    "\n",
    "從類陣列對象或從數據字符串中返回一個矩陣$\\dots$ 矩陣是一種專門的2-D陣列，在操作過程中保持其2-D特性。\n",
    "**我們可以通過使用`array`來替代`matrix`命令，文檔也建議我們這樣替換**。\n",
    "\n",
    "實際上，在`numpy`中，我們可以用`array`做很多事情。\n",
    "\n",
    "We can use array to do the math work, but we can also think about this is matrix's work. Actually, the numpy provide us a way to us matrix.\n",
    "Returns a matrix from an array-like object, or from a string of data $\\dots$ A matrix is a specialized 2-D array that retains its 2-D natrue through operations. \n",
    "**we can replace the `matrix` command by using `array` and the doc. also ask us to replace it**.\n",
    "\n",
    "Actually, in `numpy` we can do a lot of thing with the `array`."
   ]
  },
  {
   "cell_type": "code",
   "execution_count": 5,
   "metadata": {},
   "outputs": [
    {
     "name": "stdout",
     "output_type": "stream",
     "text": [
      "The answer of 'x + y' is \n",
      " [[ 6.  8.]\n",
      " [10. 12.]]\n",
      "The answer of 'x + y' is \n",
      " [[ 6.  8.]\n",
      " [10. 12.]]\n",
      "The answer of 'x - y' is \n",
      " [[-4. -4.]\n",
      " [-4. -4.]]\n",
      "The answer of 'x - y' is \n",
      " [[-4. -4.]\n",
      " [-4. -4.]]\n",
      "The answer of 'x * y' is \n",
      " [[ 5. 12.]\n",
      " [21. 32.]]\n",
      "The answer of 'x * y' is \n",
      " [[ 5. 12.]\n",
      " [21. 32.]]\n",
      "The answer of 'x * y' is \n",
      " [[0.2        0.33333333]\n",
      " [0.42857143 0.5       ]]\n",
      "The answer of 'x * y' is \n",
      " [[0.2        0.33333333]\n",
      " [0.42857143 0.5       ]]\n",
      "The answer of square root of x is \n",
      " [[1.         1.41421356]\n",
      " [1.73205081 2.        ]]\n"
     ]
    }
   ],
   "source": [
    "x = np.array([[1,2],[3,4]], dtype = np.float64)\n",
    "y = np.array([[5,6],[7,8]], dtype = np.float64)\n",
    "\n",
    "# Additon\n",
    "print(\"The answer of 'x + y' is\", \"\\n\", x + y)\n",
    "print(\"The answer of 'x + y' is\", \"\\n\", np.add(x,y))\n",
    "\n",
    "# Sbutraction \n",
    "print(\"The answer of 'x - y' is\", \"\\n\", x - y)\n",
    "print(\"The answer of 'x - y' is\", \"\\n\", np.subtract(x, y))\n",
    "\n",
    "# Multiplication \n",
    "\n",
    "print(\"The answer of 'x * y' is\", \"\\n\", x * y)\n",
    "print(\"The answer of 'x * y' is\", \"\\n\", np.multiply(x, y))\n",
    "\n",
    "# Division\n",
    "print(\"The answer of 'x * y' is\", \"\\n\", x / y)\n",
    "print(\"The answer of 'x * y' is\", \"\\n\", np.divide(x, y))\n",
    "\n",
    "# Square Root\n",
    "print(\"The answer of square root of x is\", \"\\n\", np.sqrt(x))"
   ]
  },
  {
   "cell_type": "markdown",
   "metadata": {},
   "source": [
    "For the further infromation check: <a href=\"http://docs.scipy.org/doc/numpy/reference/routines.array-manipulation.html\"> Official Doc.</a>"
   ]
  }
 ],
 "metadata": {
  "kernelspec": {
   "display_name": "Python 3",
   "language": "python",
   "name": "python3"
  },
  "language_info": {
   "codemirror_mode": {
    "name": "ipython",
    "version": 3
   },
   "file_extension": ".py",
   "mimetype": "text/x-python",
   "name": "python",
   "nbconvert_exporter": "python",
   "pygments_lexer": "ipython3",
   "version": "3.9.6"
  }
 },
 "nbformat": 4,
 "nbformat_minor": 2
}
