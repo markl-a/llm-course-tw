{
 "cells": [
  {
   "cell_type": "markdown",
   "metadata": {},
   "source": [
    "<br>\n",
    "  <a href=\"https://colab.research.google.com/github/markl-a/llm-course-tw/blob/main/1.LLM%20基礎/數學基礎/Course%20File/Linear%20Regression%20Demo.ipynb\"><img src=\"https://colab.research.google.com/assets/colab-badge.svg\" alt=\"Open In Colab\"></a>\n",
    "<br>"
   ]
  },
  {
   "cell_type": "markdown",
   "metadata": {},
   "source": [
    "# Linear Regression demo\n",
    "\n",
    "Code including two way to do linear regression:\n",
    "\n",
    "- Gradient Descent\n",
    "- Normal Equation"
   ]
  },
  {
   "cell_type": "markdown",
   "metadata": {},
   "source": [
    "## Gradient Descent"
   ]
  },
  {
   "cell_type": "code",
   "execution_count": 1,
   "metadata": {},
   "outputs": [],
   "source": [
    "import numpy as np\n",
    "import pandas as pd\n",
    "import seaborn as sns\n",
    "import matplotlib.pyplot as plt\n",
    "import random\n",
    "%matplotlib inline"
   ]
  },
  {
   "cell_type": "code",
   "execution_count": 2,
   "metadata": {},
   "outputs": [],
   "source": [
    "def cost_function(X, y, theta):\n",
    "    h = np.dot(X, theta)\n",
    "    difference = np.square(h - y)\n",
    "    cost = np.sum(difference) / (2 * len(y))\n",
    "    return cost\n",
    "\n",
    "def gradient_descent(X, y, theta, alpha):\n",
    "    h = np.dot(X, theta)\n",
    "    difference = h - y\n",
    "    theta = theta - (alpha / len(y)) * (np.dot(X.T, difference));\n",
    "    return theta"
   ]
  },
  {
   "cell_type": "code",
   "execution_count": 3,
   "metadata": {},
   "outputs": [],
   "source": [
    "num_iters = 1000\n",
    "alpha = 0.01  # Learning rate"
   ]
  },
  {
   "cell_type": "code",
   "execution_count": 14,
   "metadata": {},
   "outputs": [
    {
     "data": {
      "image/png": "[encoded data removed]",
      "text/plain": [
       "<Figure size 640x480 with 1 Axes>"
      ]
     },
     "metadata": {},
     "output_type": "display_data"
    }
   ],
   "source": [
    "url = 'https://raw.githubusercontent.com/markl-a/llm-course-tw/main/1.LLM%20%E5%9F%BA%E7%A4%8E/%E6%95%B8%E5%AD%B8%E5%9F%BA%E7%A4%8E/data_set/ex1data1.txt'\n",
    "data = pd.read_csv(url, header=None)\n",
    "\n",
    "#print(data.head()) \n",
    "#X = np.array(data[0])\n",
    "#y = np.transpose([np.array(data[1])])\n",
    "\n",
    "#sns.scatterplot(X.T, y.T[0])  # Show data distribution\n",
    "\n",
    "#X = np.column_stack((np.ones(len(X)), X))\n",
    "\n",
    "\n",
    "\n",
    "# 将DataFrame列转换为正确的numpy数组\n",
    "X = data[0].values\n",
    "y = data[1].values\n",
    "\n",
    "# 使用Seaborn正确地绘制散点图\n",
    "sns.scatterplot(x=X, y=y)  # 现在直接传递x和y作为参数\n",
    "\n",
    "# 如果需要添加一列1到X（例如，用于线性回归的特征矩阵）\n",
    "X = np.column_stack((np.ones(len(X)), X))"
   ]
  },
  {
   "cell_type": "code",
   "execution_count": 15,
   "metadata": {},
   "outputs": [],
   "source": [
    "# Randomly select theta for hypothesis\n",
    "theta = np.array([[random.uniform(y.min(), y.max()/2)], [random.uniform(-1, 1)]])\n",
    "# theta = np.array([[0],[0]])"
   ]
  },
  {
   "cell_type": "code",
   "execution_count": 17,
   "metadata": {},
   "outputs": [
    {
     "name": "stdout",
     "output_type": "stream",
     "text": [
      "Inital θ_0: 15.525347 θ_1: 0.207618\n",
      "After 1000 iterations, the cost is 0.196414 and the hypothesis is h(θ)=17.2518+0.0342X\n"
     ]
    }
   ],
   "source": [
    "print(\"Inital θ_0: {:f} θ_1: {:f}\".format(theta[0][0], theta[1][0]))\n",
    "cost_array = []\n",
    "for _ in range(num_iters):\n",
    "    theta = gradient_descent(X, y, theta, alpha)\n",
    "    cost_array.append(cost_function(X, y, theta))\n",
    "print(\"After {:d} iterations, the cost is {:f} and the hypothesis is h(θ)={:.4f}+{:.4f}X\".format(num_iters, cost_function(X, y, theta), theta[0][0], theta[1][0]))"
   ]
  },
  {
   "cell_type": "code",
   "execution_count": 18,
   "metadata": {},
   "outputs": [
    {
     "ename": "TypeError",
     "evalue": "lineplot() takes from 0 to 1 positional arguments but 2 were given",
     "output_type": "error",
     "traceback": [
      "\u001b[0;31m---------------------------------------------------------------------------\u001b[0m",
      "\u001b[0;31mTypeError\u001b[0m                                 Traceback (most recent call last)",
      "Cell \u001b[0;32mIn[18], line 2\u001b[0m\n\u001b[1;32m      1\u001b[0m \u001b[38;5;66;03m# Plot cost change\u001b[39;00m\n\u001b[0;32m----> 2\u001b[0m g \u001b[38;5;241m=\u001b[39m \u001b[43msns\u001b[49m\u001b[38;5;241;43m.\u001b[39;49m\u001b[43mlineplot\u001b[49m\u001b[43m(\u001b[49m\u001b[43mnp\u001b[49m\u001b[38;5;241;43m.\u001b[39;49m\u001b[43marange\u001b[49m\u001b[43m(\u001b[49m\u001b[43mnum_iters\u001b[49m\u001b[43m)\u001b[49m\u001b[43m,\u001b[49m\u001b[43m \u001b[49m\u001b[43mcost_array\u001b[49m\u001b[43m)\u001b[49m\n\u001b[1;32m      3\u001b[0m plt\u001b[38;5;241m.\u001b[39mtitle(\u001b[38;5;124m'\u001b[39m\u001b[38;5;124mGradient Descent\u001b[39m\u001b[38;5;124m'\u001b[39m)\n\u001b[1;32m      4\u001b[0m plt\u001b[38;5;241m.\u001b[39mxlabel(\u001b[38;5;124m'\u001b[39m\u001b[38;5;124mIteration\u001b[39m\u001b[38;5;124m'\u001b[39m)\n",
      "\u001b[0;31mTypeError\u001b[0m: lineplot() takes from 0 to 1 positional arguments but 2 were given"
     ]
    }
   ],
   "source": [
    "# Plot cost change\n",
    "g = sns.lineplot(np.arange(num_iters), cost_array)\n",
    "plt.title('Gradient Descent')\n",
    "plt.xlabel('Iteration')\n",
    "plt.ylabel('Cost')"
   ]
  },
  {
   "cell_type": "markdown",
   "metadata": {},
   "source": [
    "## Normal Equation\n",
    "\n",
    "> Please make sure that your matrix X is a non-singular matrix before you run this code"
   ]
  },
  {
   "cell_type": "code",
   "execution_count": null,
   "metadata": {},
   "outputs": [],
   "source": [
    "data = pd.read_csv('ex1data1.txt', header=None)\n",
    "\n",
    "X = np.array(data[0])\n",
    "\n",
    "ne_X = np.column_stack((np.ones(len(X)), X))\n",
    "ne_y = np.transpose([np.array(data[1])])"
   ]
  },
  {
   "cell_type": "code",
   "execution_count": null,
   "metadata": {},
   "outputs": [],
   "source": [
    "theta = np.dot(np.dot(np.linalg.inv(np.dot(ne_X.T, ne_X)), ne_X.T), y)"
   ]
  },
  {
   "cell_type": "code",
   "execution_count": null,
   "metadata": {},
   "outputs": [
    {
     "name": "stdout",
     "output_type": "stream",
     "text": [
      "The cost is 4.476971 and the hypothesis is h(θ)=-3.8958+1.1930X\n"
     ]
    }
   ],
   "source": [
    "print(\"The cost is {:f} and the hypothesis is h(θ)={:.4f}+{:.4f}X\".format(cost_function(ne_X, ne_y, theta), theta[0][0], theta[1][0]))"
   ]
  },
  {
   "cell_type": "markdown",
   "metadata": {},
   "source": [
    "## Credit\n",
    "\n",
    "Data `ex1data1.txt` is from Andrew Ng's Machine Learning Course"
   ]
  },
  {
   "cell_type": "code",
   "execution_count": null,
   "metadata": {},
   "outputs": [],
   "source": []
  }
 ],
 "metadata": {
  "kernelspec": {
   "display_name": "Python 3",
   "language": "python",
   "name": "python3"
  },
  "language_info": {
   "codemirror_mode": {
    "name": "ipython",
    "version": 3
   },
   "file_extension": ".py",
   "mimetype": "text/x-python",
   "name": "python",
   "nbconvert_exporter": "python",
   "pygments_lexer": "ipython3",
   "version": "3.9.6"
  }
 },
 "nbformat": 4,
 "nbformat_minor": 2
}
